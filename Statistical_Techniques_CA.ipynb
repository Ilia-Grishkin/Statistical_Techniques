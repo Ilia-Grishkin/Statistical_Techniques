{
 "cells": [
  {
   "cell_type": "markdown",
   "id": "69fdfd72",
   "metadata": {},
   "source": [
    "# Content \n",
    "- ### **[Task 1 - Data Analysis](#section0)**\n",
    "- **[Introduction](#section1)**\n",
    "- **[EDA]((#section2)**\n",
    "- **[Data preparation](#section3)**\n",
    "- **[Data sources and methods](#section4)**\n"
   ]
  },
  {
   "cell_type": "markdown",
   "id": "ab3d96d3",
   "metadata": {},
   "source": [
    "<a id=\"section0\"></a>\n",
    "## Task 1 - Data Analysis\n",
    "<a id=\"section1\"></a>\n",
    "### Introduction"
   ]
  },
  {
   "cell_type": "markdown",
   "id": "0ad14da3",
   "metadata": {},
   "source": [
    "<a id=\"section2\"></a>\n",
    "### EDA"
   ]
  },
  {
   "cell_type": "markdown",
   "id": "57b03e27",
   "metadata": {},
   "source": [
    "<a id=\"section3\"></a>\n",
    "### Data preparation"
   ]
  },
  {
   "cell_type": "markdown",
   "id": "ccb14737",
   "metadata": {},
   "source": [
    "<a id=\"section4\"></a>\n",
    "### Data sources and methods"
   ]
  },
  {
   "cell_type": "markdown",
   "id": "d3a52068",
   "metadata": {},
   "source": [
    "***"
   ]
  },
  {
   "cell_type": "markdown",
   "id": "0d88b76a",
   "metadata": {},
   "source": [
    "### Author: Ilia Grishkin\n",
    "#### https://github.com/Ilia-Grishkin/Statistical_Techniques\n",
    "### <center>Change log</center>"
   ]
  },
  {
   "cell_type": "markdown",
   "id": "8177862a",
   "metadata": {},
   "source": [
    "|  Date | Change Description | Changed By  |  Status |\n",
    "|---|---|---|---|\n",
    "| 22.03.2024  | Content, structure (titles, subtitles) | Ilia  |  Pushed |"
   ]
  },
  {
   "cell_type": "code",
   "execution_count": null,
   "id": "37cd18f2",
   "metadata": {},
   "outputs": [],
   "source": []
  }
 ],
 "metadata": {
  "kernelspec": {
   "display_name": "Python 3 (ipykernel)",
   "language": "python",
   "name": "python3"
  },
  "language_info": {
   "codemirror_mode": {
    "name": "ipython",
    "version": 3
   },
   "file_extension": ".py",
   "mimetype": "text/x-python",
   "name": "python",
   "nbconvert_exporter": "python",
   "pygments_lexer": "ipython3",
   "version": "3.9.13"
  }
 },
 "nbformat": 4,
 "nbformat_minor": 5
}
